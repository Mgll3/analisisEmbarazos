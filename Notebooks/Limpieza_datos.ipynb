{
  "nbformat": 4,
  "nbformat_minor": 0,
  "metadata": {
    "colab": {
      "provenance": []
    },
    "kernelspec": {
      "name": "python3",
      "display_name": "Python 3"
    },
    "language_info": {
      "name": "python"
    }
  },
  "cells": [
    {
      "cell_type": "markdown",
      "source": [
        "#  Creacion de modelos de machine learning para analisis y predicciones muertes prenatales en embarazos de medellin"
      ],
      "metadata": {
        "id": "frwhJ6-wAKJC"
      }
    },
    {
      "cell_type": "code",
      "source": [
        "!pip install --upgrade category_encoders"
      ],
      "metadata": {
        "colab": {
          "base_uri": "https://localhost:8080/"
        },
        "id": "cMNgzjHUmBO4",
        "outputId": "1c013c07-182a-4993-f80f-d6052df9f1b6"
      },
      "execution_count": null,
      "outputs": [
        {
          "output_type": "stream",
          "name": "stdout",
          "text": [
            "Looking in indexes: https://pypi.org/simple, https://us-python.pkg.dev/colab-wheels/public/simple/\n",
            "Requirement already satisfied: category_encoders in /usr/local/lib/python3.9/dist-packages (2.6.0)\n",
            "Requirement already satisfied: numpy>=1.14.0 in /usr/local/lib/python3.9/dist-packages (from category_encoders) (1.22.4)\n",
            "Requirement already satisfied: statsmodels>=0.9.0 in /usr/local/lib/python3.9/dist-packages (from category_encoders) (0.13.5)\n",
            "Requirement already satisfied: scikit-learn>=0.20.0 in /usr/local/lib/python3.9/dist-packages (from category_encoders) (1.2.2)\n",
            "Requirement already satisfied: patsy>=0.5.1 in /usr/local/lib/python3.9/dist-packages (from category_encoders) (0.5.3)\n",
            "Requirement already satisfied: scipy>=1.0.0 in /usr/local/lib/python3.9/dist-packages (from category_encoders) (1.10.1)\n",
            "Requirement already satisfied: pandas>=1.0.5 in /usr/local/lib/python3.9/dist-packages (from category_encoders) (1.4.4)\n",
            "Requirement already satisfied: pytz>=2020.1 in /usr/local/lib/python3.9/dist-packages (from pandas>=1.0.5->category_encoders) (2022.7.1)\n",
            "Requirement already satisfied: python-dateutil>=2.8.1 in /usr/local/lib/python3.9/dist-packages (from pandas>=1.0.5->category_encoders) (2.8.2)\n",
            "Requirement already satisfied: six in /usr/local/lib/python3.9/dist-packages (from patsy>=0.5.1->category_encoders) (1.16.0)\n",
            "Requirement already satisfied: threadpoolctl>=2.0.0 in /usr/local/lib/python3.9/dist-packages (from scikit-learn>=0.20.0->category_encoders) (3.1.0)\n",
            "Requirement already satisfied: joblib>=1.1.1 in /usr/local/lib/python3.9/dist-packages (from scikit-learn>=0.20.0->category_encoders) (1.1.1)\n",
            "Requirement already satisfied: packaging>=21.3 in /usr/local/lib/python3.9/dist-packages (from statsmodels>=0.9.0->category_encoders) (23.0)\n"
          ]
        }
      ]
    },
    {
      "cell_type": "code",
      "source": [
        "#importamos librerias \n",
        "import numpy as np\n",
        "import pandas as pd\n",
        "from sklearn.svm import OneClassSVM\n",
        "from category_encoders import BinaryEncoder\n",
        "import matplotlib.pyplot as plt\n",
        "from sklearn.impute import SimpleImputer\n",
        "#libreria para guardar y cargar modelos\n",
        "import pickle\n"
      ],
      "metadata": {
        "id": "5AaFx88qMcGO"
      },
      "execution_count": null,
      "outputs": []
    },
    {
      "cell_type": "markdown",
      "source": [
        "# Limpieza de datos"
      ],
      "metadata": {
        "id": "gIOJCHRGDJzw"
      }
    },
    {
      "cell_type": "code",
      "execution_count": null,
      "metadata": {
        "id": "oilab4TRAFic",
        "colab": {
          "base_uri": "https://localhost:8080/",
          "height": 791
        },
        "outputId": "a292f5f9-b4eb-4f0b-c539-be08b7b785dc"
      },
      "outputs": [
        {
          "output_type": "stream",
          "name": "stdout",
          "text": [
            "<class 'pandas.core.frame.DataFrame'>\n",
            "RangeIndex: 277292 entries, 0 to 277291\n",
            "Data columns (total 13 columns):\n",
            " #   Column            Non-Null Count   Dtype  \n",
            "---  ------            --------------   -----  \n",
            " 0   CODPTORE          277292 non-null  int64  \n",
            " 1   CODMUNRE          277292 non-null  int64  \n",
            " 2   fecha_nacimiento  277292 non-null  object \n",
            " 3   ANO               277292 non-null  int64  \n",
            " 4   MES               277292 non-null  int64  \n",
            " 5   TIPO_PRODUCTO     277292 non-null  object \n",
            " 6   SEXO              277292 non-null  int64  \n",
            " 7   EDAD_MADRE        277292 non-null  int64  \n",
            " 8   SEG_SOCIAL        277292 non-null  int64  \n",
            " 9   IDCLASADMI        261656 non-null  object \n",
            " 10  COD_COMUNA_RES    277292 non-null  int64  \n",
            " 11  BARRIO_RES        277292 non-null  object \n",
            " 12  APORTE_EMB        277292 non-null  float64\n",
            "dtypes: float64(1), int64(8), object(4)\n",
            "memory usage: 27.5+ MB\n"
          ]
        },
        {
          "output_type": "display_data",
          "data": {
            "text/plain": [
              "   CODPTORE  CODMUNRE               fecha_nacimiento   ANO  MES  \\\n",
              "0         5         1  2012-11-03T00:00:00.000-05:00  2012   11   \n",
              "1         5         1  2012-04-08T00:00:00.000-05:00  2012    4   \n",
              "2         5         1  2012-03-31T00:00:00.000-05:00  2012    3   \n",
              "3         5         1  2012-04-25T00:00:00.000-05:00  2012    4   \n",
              "4         5         1  2012-06-15T00:00:00.000-05:00  2012    6   \n",
              "\n",
              "     TIPO_PRODUCTO  SEXO  EDAD_MADRE  SEG_SOCIAL             IDCLASADMI  \\\n",
              "0  Producto muerto     3          41           1               EPS SURA   \n",
              "1  Producto muerto     3          26           1               EPS SURA   \n",
              "2  Producto muerto     3          36           1               EPS SURA   \n",
              "3  Producto muerto     3          28           1  E.P.S.  SANITAS  S.A.   \n",
              "4  Producto muerto     3          36           1               EPS SURA   \n",
              "\n",
              "   COD_COMUNA_RES           BARRIO_RES  APORTE_EMB  \n",
              "0              15           Cristo Rey         1.0  \n",
              "1               3          Las Granjas         1.0  \n",
              "2              12  Calasanz Parte Alta         1.0  \n",
              "3              16     Diego Echavarría         1.0  \n",
              "4               7          El Diamante         1.0  "
            ],
            "text/html": [
              "\n",
              "  <div id=\"df-7504f9db-1cb0-41a9-b089-19a6cef83bc2\">\n",
              "    <div class=\"colab-df-container\">\n",
              "      <div>\n",
              "<style scoped>\n",
              "    .dataframe tbody tr th:only-of-type {\n",
              "        vertical-align: middle;\n",
              "    }\n",
              "\n",
              "    .dataframe tbody tr th {\n",
              "        vertical-align: top;\n",
              "    }\n",
              "\n",
              "    .dataframe thead th {\n",
              "        text-align: right;\n",
              "    }\n",
              "</style>\n",
              "<table border=\"1\" class=\"dataframe\">\n",
              "  <thead>\n",
              "    <tr style=\"text-align: right;\">\n",
              "      <th></th>\n",
              "      <th>CODPTORE</th>\n",
              "      <th>CODMUNRE</th>\n",
              "      <th>fecha_nacimiento</th>\n",
              "      <th>ANO</th>\n",
              "      <th>MES</th>\n",
              "      <th>TIPO_PRODUCTO</th>\n",
              "      <th>SEXO</th>\n",
              "      <th>EDAD_MADRE</th>\n",
              "      <th>SEG_SOCIAL</th>\n",
              "      <th>IDCLASADMI</th>\n",
              "      <th>COD_COMUNA_RES</th>\n",
              "      <th>BARRIO_RES</th>\n",
              "      <th>APORTE_EMB</th>\n",
              "    </tr>\n",
              "  </thead>\n",
              "  <tbody>\n",
              "    <tr>\n",
              "      <th>0</th>\n",
              "      <td>5</td>\n",
              "      <td>1</td>\n",
              "      <td>2012-11-03T00:00:00.000-05:00</td>\n",
              "      <td>2012</td>\n",
              "      <td>11</td>\n",
              "      <td>Producto muerto</td>\n",
              "      <td>3</td>\n",
              "      <td>41</td>\n",
              "      <td>1</td>\n",
              "      <td>EPS SURA</td>\n",
              "      <td>15</td>\n",
              "      <td>Cristo Rey</td>\n",
              "      <td>1.0</td>\n",
              "    </tr>\n",
              "    <tr>\n",
              "      <th>1</th>\n",
              "      <td>5</td>\n",
              "      <td>1</td>\n",
              "      <td>2012-04-08T00:00:00.000-05:00</td>\n",
              "      <td>2012</td>\n",
              "      <td>4</td>\n",
              "      <td>Producto muerto</td>\n",
              "      <td>3</td>\n",
              "      <td>26</td>\n",
              "      <td>1</td>\n",
              "      <td>EPS SURA</td>\n",
              "      <td>3</td>\n",
              "      <td>Las Granjas</td>\n",
              "      <td>1.0</td>\n",
              "    </tr>\n",
              "    <tr>\n",
              "      <th>2</th>\n",
              "      <td>5</td>\n",
              "      <td>1</td>\n",
              "      <td>2012-03-31T00:00:00.000-05:00</td>\n",
              "      <td>2012</td>\n",
              "      <td>3</td>\n",
              "      <td>Producto muerto</td>\n",
              "      <td>3</td>\n",
              "      <td>36</td>\n",
              "      <td>1</td>\n",
              "      <td>EPS SURA</td>\n",
              "      <td>12</td>\n",
              "      <td>Calasanz Parte Alta</td>\n",
              "      <td>1.0</td>\n",
              "    </tr>\n",
              "    <tr>\n",
              "      <th>3</th>\n",
              "      <td>5</td>\n",
              "      <td>1</td>\n",
              "      <td>2012-04-25T00:00:00.000-05:00</td>\n",
              "      <td>2012</td>\n",
              "      <td>4</td>\n",
              "      <td>Producto muerto</td>\n",
              "      <td>3</td>\n",
              "      <td>28</td>\n",
              "      <td>1</td>\n",
              "      <td>E.P.S.  SANITAS  S.A.</td>\n",
              "      <td>16</td>\n",
              "      <td>Diego Echavarría</td>\n",
              "      <td>1.0</td>\n",
              "    </tr>\n",
              "    <tr>\n",
              "      <th>4</th>\n",
              "      <td>5</td>\n",
              "      <td>1</td>\n",
              "      <td>2012-06-15T00:00:00.000-05:00</td>\n",
              "      <td>2012</td>\n",
              "      <td>6</td>\n",
              "      <td>Producto muerto</td>\n",
              "      <td>3</td>\n",
              "      <td>36</td>\n",
              "      <td>1</td>\n",
              "      <td>EPS SURA</td>\n",
              "      <td>7</td>\n",
              "      <td>El Diamante</td>\n",
              "      <td>1.0</td>\n",
              "    </tr>\n",
              "  </tbody>\n",
              "</table>\n",
              "</div>\n",
              "      <button class=\"colab-df-convert\" onclick=\"convertToInteractive('df-7504f9db-1cb0-41a9-b089-19a6cef83bc2')\"\n",
              "              title=\"Convert this dataframe to an interactive table.\"\n",
              "              style=\"display:none;\">\n",
              "        \n",
              "  <svg xmlns=\"http://www.w3.org/2000/svg\" height=\"24px\"viewBox=\"0 0 24 24\"\n",
              "       width=\"24px\">\n",
              "    <path d=\"M0 0h24v24H0V0z\" fill=\"none\"/>\n",
              "    <path d=\"M18.56 5.44l.94 2.06.94-2.06 2.06-.94-2.06-.94-.94-2.06-.94 2.06-2.06.94zm-11 1L8.5 8.5l.94-2.06 2.06-.94-2.06-.94L8.5 2.5l-.94 2.06-2.06.94zm10 10l.94 2.06.94-2.06 2.06-.94-2.06-.94-.94-2.06-.94 2.06-2.06.94z\"/><path d=\"M17.41 7.96l-1.37-1.37c-.4-.4-.92-.59-1.43-.59-.52 0-1.04.2-1.43.59L10.3 9.45l-7.72 7.72c-.78.78-.78 2.05 0 2.83L4 21.41c.39.39.9.59 1.41.59.51 0 1.02-.2 1.41-.59l7.78-7.78 2.81-2.81c.8-.78.8-2.07 0-2.86zM5.41 20L4 18.59l7.72-7.72 1.47 1.35L5.41 20z\"/>\n",
              "  </svg>\n",
              "      </button>\n",
              "      \n",
              "  <style>\n",
              "    .colab-df-container {\n",
              "      display:flex;\n",
              "      flex-wrap:wrap;\n",
              "      gap: 12px;\n",
              "    }\n",
              "\n",
              "    .colab-df-convert {\n",
              "      background-color: #E8F0FE;\n",
              "      border: none;\n",
              "      border-radius: 50%;\n",
              "      cursor: pointer;\n",
              "      display: none;\n",
              "      fill: #1967D2;\n",
              "      height: 32px;\n",
              "      padding: 0 0 0 0;\n",
              "      width: 32px;\n",
              "    }\n",
              "\n",
              "    .colab-df-convert:hover {\n",
              "      background-color: #E2EBFA;\n",
              "      box-shadow: 0px 1px 2px rgba(60, 64, 67, 0.3), 0px 1px 3px 1px rgba(60, 64, 67, 0.15);\n",
              "      fill: #174EA6;\n",
              "    }\n",
              "\n",
              "    [theme=dark] .colab-df-convert {\n",
              "      background-color: #3B4455;\n",
              "      fill: #D2E3FC;\n",
              "    }\n",
              "\n",
              "    [theme=dark] .colab-df-convert:hover {\n",
              "      background-color: #434B5C;\n",
              "      box-shadow: 0px 1px 3px 1px rgba(0, 0, 0, 0.15);\n",
              "      filter: drop-shadow(0px 1px 2px rgba(0, 0, 0, 0.3));\n",
              "      fill: #FFFFFF;\n",
              "    }\n",
              "  </style>\n",
              "\n",
              "      <script>\n",
              "        const buttonEl =\n",
              "          document.querySelector('#df-7504f9db-1cb0-41a9-b089-19a6cef83bc2 button.colab-df-convert');\n",
              "        buttonEl.style.display =\n",
              "          google.colab.kernel.accessAllowed ? 'block' : 'none';\n",
              "\n",
              "        async function convertToInteractive(key) {\n",
              "          const element = document.querySelector('#df-7504f9db-1cb0-41a9-b089-19a6cef83bc2');\n",
              "          const dataTable =\n",
              "            await google.colab.kernel.invokeFunction('convertToInteractive',\n",
              "                                                     [key], {});\n",
              "          if (!dataTable) return;\n",
              "\n",
              "          const docLinkHtml = 'Like what you see? Visit the ' +\n",
              "            '<a target=\"_blank\" href=https://colab.research.google.com/notebooks/data_table.ipynb>data table notebook</a>'\n",
              "            + ' to learn more about interactive tables.';\n",
              "          element.innerHTML = '';\n",
              "          dataTable['output_type'] = 'display_data';\n",
              "          await google.colab.output.renderOutput(dataTable, element);\n",
              "          const docLink = document.createElement('div');\n",
              "          docLink.innerHTML = docLinkHtml;\n",
              "          element.appendChild(docLink);\n",
              "        }\n",
              "      </script>\n",
              "    </div>\n",
              "  </div>\n",
              "  "
            ]
          },
          "metadata": {}
        }
      ],
      "source": [
        "#importamos los datos de csv en un dataframe de pandas\n",
        "dataBruto = pd.read_csv(\"embarazos_medellin.csv\", sep = \";\")\n",
        "dataBruto.drop('ID', axis=1, inplace=True) #eliminamos columna id\n",
        "\n",
        "#columnas del dataframe\n",
        "dataBruto.info()\n",
        "\n",
        "#ejemplo de los datos\n",
        "display(dataBruto.head())\n"
      ]
    },
    {
      "cell_type": "code",
      "source": [
        "#Eliminacion de datos duplicados\n",
        "data = dataBruto.drop_duplicates()\n",
        "#Eliminacion de registros faltantes\n",
        "#data = dataBruto.dropna()\n",
        "#cambiamos datos faltantes por su moda\n",
        "imputer = SimpleImputer(strategy='most_frequent') \n",
        "columnas_faltantes = data.columns[data.isna().any()].tolist() # Selecciona las columnas con valores faltantes\n",
        "data[columnas_faltantes] = imputer.fit_transform(data[columnas_faltantes])\n",
        "#Calculamos porcentaje de datos eliminados\n",
        "tamaño_original = dataBruto.shape[0]\n",
        "tamaño_actual = data.shape[0]\n",
        "print(f\"Tamaño original = {tamaño_original} \\n Tamaño actual {tamaño_actual} \\n porcentaje de datos eliminados = {100-(tamaño_actual*100/tamaño_original)}% \")"
      ],
      "metadata": {
        "colab": {
          "base_uri": "https://localhost:8080/"
        },
        "id": "39zUzZi1_uhD",
        "outputId": "d1a297cd-dd68-420e-f22d-9528bc30a53c"
      },
      "execution_count": null,
      "outputs": [
        {
          "output_type": "stream",
          "name": "stdout",
          "text": [
            "Tamaño original = 277292 \n",
            " Tamaño actual 275126 \n",
            " porcentaje de datos eliminados = 0.7811260332068741% \n"
          ]
        },
        {
          "output_type": "stream",
          "name": "stderr",
          "text": [
            "<ipython-input-73-7edcefe1aa84>:8: SettingWithCopyWarning: \n",
            "A value is trying to be set on a copy of a slice from a DataFrame.\n",
            "Try using .loc[row_indexer,col_indexer] = value instead\n",
            "\n",
            "See the caveats in the documentation: https://pandas.pydata.org/pandas-docs/stable/user_guide/indexing.html#returning-a-view-versus-a-copy\n",
            "  data[columnas_faltantes] = imputer.fit_transform(data[columnas_faltantes])\n"
          ]
        }
      ]
    },
    {
      "cell_type": "code",
      "source": [
        "#comparacion de categorias de la variable objetivo, tipo de producto\n",
        "producto_column = data[\"TIPO_PRODUCTO\"]\n",
        "muertos = len([ p for p in producto_column if p == \"Producto muerto\"])\n",
        "vivos = len([ p for p in producto_column if p == \"Producto vivo\"])\n",
        "#grafico\n",
        "nombres_barras = ['Muertos', 'Vivos']\n",
        "datos_barras = [muertos, vivos]\n",
        "plt.bar(nombres_barras, datos_barras)\n",
        "plt.title('Comparación de muertos y vivos')\n",
        "plt.xlabel('Estado')\n",
        "plt.ylabel('Número de personas')\n",
        "plt.show()"
      ],
      "metadata": {
        "colab": {
          "base_uri": "https://localhost:8080/",
          "height": 472
        },
        "id": "tsg85mqSKalJ",
        "outputId": "74185a93-b6bf-44de-ae8c-7ec4596ed068"
      },
      "execution_count": null,
      "outputs": [
        {
          "output_type": "display_data",
          "data": {
            "text/plain": [
              "<Figure size 640x480 with 1 Axes>"
            ],
            "image/png": "[encoded data removed]"
          },
          "metadata": {}
        }
      ]
    },
    {
      "cell_type": "code",
      "source": [
        "#eliminamos columnas con datos no aportantes al ambito\n",
        "data.drop([\"CODPTORE\", \"CODMUNRE\", \"fecha_nacimiento\"], axis=1, inplace=True) #eliminamos departamento y municipio pues todos los datos son en medellin, y la fecha ya es dada por otras columnas\n",
        "#departamento y municipio son redundantes pues esta base de datos es en medellin , y fecha de nacimiento se encuentra en otras tablas\n",
        "cols_cat = data.columns.tolist()\n",
        "for col in cols_cat: #miramos el numero de niveles que tiene cada columna\n",
        "  print(f'Columna {col}: {data[col].nunique()} subniveles')"
      ],
      "metadata": {
        "colab": {
          "base_uri": "https://localhost:8080/"
        },
        "id": "4CTAsY9iF2EX",
        "outputId": "ee3ac149-7b40-4d0a-b0c1-9bbc65d36757"
      },
      "execution_count": null,
      "outputs": [
        {
          "output_type": "stream",
          "name": "stdout",
          "text": [
            "Columna ANO: 9 subniveles\n",
            "Columna MES: 12 subniveles\n",
            "Columna TIPO_PRODUCTO: 2 subniveles\n",
            "Columna SEXO: 3 subniveles\n",
            "Columna EDAD_MADRE: 46 subniveles\n",
            "Columna SEG_SOCIAL: 6 subniveles\n",
            "Columna IDCLASADMI: 153 subniveles\n",
            "Columna COD_COMUNA_RES: 22 subniveles\n",
            "Columna BARRIO_RES: 317 subniveles\n",
            "Columna APORTE_EMB: 4 subniveles\n"
          ]
        },
        {
          "output_type": "stream",
          "name": "stderr",
          "text": [
            "<ipython-input-75-4d6bb65a01e9>:2: SettingWithCopyWarning: \n",
            "A value is trying to be set on a copy of a slice from a DataFrame\n",
            "\n",
            "See the caveats in the documentation: https://pandas.pydata.org/pandas-docs/stable/user_guide/indexing.html#returning-a-view-versus-a-copy\n",
            "  data.drop([\"CODPTORE\", \"CODMUNRE\", \"fecha_nacimiento\"], axis=1, inplace=True) #eliminamos departamento y municipio pues todos los datos son en medellin, y la fecha ya es dada por otras columnas\n"
          ]
        }
      ]
    },
    {
      "cell_type": "markdown",
      "source": [
        "El numero de subniveles de las columnas  categoricas  año, mes, tipo producto, sexo, seguridad social, codigo de comuna, aporte embarazo se ajustan al numero dado por la base de datos.\n",
        "\n",
        "Por la alta cantidad de categorias de BARRIO_RES y IDCLASAADMI que son barrio de residencia y el ombre de la entidad administradora en salud respectivamente, es inviable encontrar datos mal copiados."
      ],
      "metadata": {
        "id": "l25Ldg_gRBdh"
      }
    },
    {
      "cell_type": "code",
      "source": [
        "#transformar datos categoricos a numericos usando binary encoding\n",
        "display(data[\"BARRIO_RES\"])\n",
        "col_categoricas = [\"IDCLASADMI\", \"BARRIO_RES\"] #variables categoricas que no han sido procesadas\n",
        "encoders = []\n",
        "for column_name in col_categoricas:\n",
        "  column = data[column_name] #guardamos la columna \n",
        "  binary_encoder = BinaryEncoder(cols=[column_name]) #creamos el objetos \n",
        "  binary_encoder.fit(column) #entrenamos con la columna\n",
        "  encoders.append(binary_encoder) #guardamos en la lista\n",
        "  columna_encoder = binary_encoder.transform(column) #creamos las columnas codificadas \n",
        "  data = pd.concat([data, columna_encoder], axis=1) #guaradamos las columnas codificadas en el dataframe\n",
        "  data.drop([column_name],axis=1, inplace=True )\n",
        "\n",
        "#trandormar dato categorico de \"tipo producto\" a numerico\n",
        "# Creamos un diccionario de reemplazo\n",
        "reemplazo = {\"Producto vivo\": 0, \"Producto muerto\": 1}\n",
        "\n",
        "# Usamos la función replace()\n",
        "columna_tipo_producto = data[\"TIPO_PRODUCTO\"]\n",
        "data[\"TIPO_PRODUCTO\"] = columna_tipo_producto.replace(reemplazo)\n",
        "\n",
        "\n",
        "data.info()\n"
      ],
      "metadata": {
        "colab": {
          "base_uri": "https://localhost:8080/",
          "height": 781
        },
        "id": "5XEkyhbAAH92",
        "outputId": "67490f70-32bb-46c6-fbbf-8ed2ffb7a8d2"
      },
      "execution_count": null,
      "outputs": [
        {
          "output_type": "display_data",
          "data": {
            "text/plain": [
              "0                   Cristo Rey\n",
              "1                  Las Granjas\n",
              "2          Calasanz Parte Alta\n",
              "3             Diego Echavarría\n",
              "4                  El Diamante\n",
              "                  ...         \n",
              "277287              El Triunfo\n",
              "277288    Alejandro Echavarria\n",
              "277289                 Robledo\n",
              "277290             La Pilarica\n",
              "277291                 La Mota\n",
              "Name: BARRIO_RES, Length: 275126, dtype: object"
            ]
          },
          "metadata": {}
        },
        {
          "output_type": "stream",
          "name": "stdout",
          "text": [
            "<class 'pandas.core.frame.DataFrame'>\n",
            "Int64Index: 275126 entries, 0 to 277291\n",
            "Data columns (total 25 columns):\n",
            " #   Column          Non-Null Count   Dtype  \n",
            "---  ------          --------------   -----  \n",
            " 0   ANO             275126 non-null  int64  \n",
            " 1   MES             275126 non-null  int64  \n",
            " 2   TIPO_PRODUCTO   275126 non-null  int64  \n",
            " 3   SEXO            275126 non-null  int64  \n",
            " 4   EDAD_MADRE      275126 non-null  int64  \n",
            " 5   SEG_SOCIAL      275126 non-null  int64  \n",
            " 6   COD_COMUNA_RES  275126 non-null  int64  \n",
            " 7   APORTE_EMB      275126 non-null  float64\n",
            " 8   IDCLASADMI_0    275126 non-null  int64  \n",
            " 9   IDCLASADMI_1    275126 non-null  int64  \n",
            " 10  IDCLASADMI_2    275126 non-null  int64  \n",
            " 11  IDCLASADMI_3    275126 non-null  int64  \n",
            " 12  IDCLASADMI_4    275126 non-null  int64  \n",
            " 13  IDCLASADMI_5    275126 non-null  int64  \n",
            " 14  IDCLASADMI_6    275126 non-null  int64  \n",
            " 15  IDCLASADMI_7    275126 non-null  int64  \n",
            " 16  BARRIO_RES_0    275126 non-null  int64  \n",
            " 17  BARRIO_RES_1    275126 non-null  int64  \n",
            " 18  BARRIO_RES_2    275126 non-null  int64  \n",
            " 19  BARRIO_RES_3    275126 non-null  int64  \n",
            " 20  BARRIO_RES_4    275126 non-null  int64  \n",
            " 21  BARRIO_RES_5    275126 non-null  int64  \n",
            " 22  BARRIO_RES_6    275126 non-null  int64  \n",
            " 23  BARRIO_RES_7    275126 non-null  int64  \n",
            " 24  BARRIO_RES_8    275126 non-null  int64  \n",
            "dtypes: float64(1), int64(24)\n",
            "memory usage: 54.6 MB\n"
          ]
        }
      ]
    },
    {
      "cell_type": "code",
      "source": [
        "#eliminamos datos tipicos restringiendo el rango de edad a \n",
        "tamaño_antes = data.shape\n",
        "data.drop(data[(data['EDAD_MADRE'] < 12) | (data['EDAD_MADRE'] > 54)].index, inplace=True)\n",
        "# se eliminaron los mayores por 54, por que no encontraron datos nuevos entre el rango de 54 y 98 \n",
        "#como se encontraron solo 6 datos menores a 12 años se eliminan este rango \n",
        "tamaño_nuevo = data.shape\n",
        "print(tamaño_antes, tamaño_nuevo)"
      ],
      "metadata": {
        "colab": {
          "base_uri": "https://localhost:8080/"
        },
        "id": "dphli5YnInzr",
        "outputId": "6413714c-7bb1-4977-eb05-0b1847575ef0"
      },
      "execution_count": null,
      "outputs": [
        {
          "output_type": "stream",
          "name": "stdout",
          "text": [
            "(275126, 25) (275067, 25)\n"
          ]
        }
      ]
    },
    {
      "cell_type": "markdown",
      "source": [
        "# guardamos los datos "
      ],
      "metadata": {
        "id": "iecjvIh8-wCf"
      }
    },
    {
      "cell_type": "code",
      "source": [
        "#guardamos los datos limpiados\n",
        "data.to_csv('embarazos_medellin_limpios.csv', index=False)\n",
        "\n",
        "#guardamos los modelos de decodificacion\n",
        "\n",
        "file_name = 'binary_encoder_IDCLASADMI.pkl' #nombre del archivo\n",
        "with open(file_name, 'wb') as file:\n",
        "    pickle.dump(encoders[0], file) #guardamos el modelo\n",
        "\n",
        "file_name= 'binary_encoder_BARRIO_RES.pkl' #nombre del archivo\n",
        "with open(file_name, 'wb') as file:\n",
        "    pickle.dump(encoders[1], file) #guardamos el modelo\n",
        "\n",
        "\n"
      ],
      "metadata": {
        "id": "wmlhf2vq2OZs"
      },
      "execution_count": null,
      "outputs": []
    },
    {
      "cell_type": "code",
      "source": [
        "#cargamos el archivo \n",
        "with open(file_binary_barrio , 'rb') as file:\n",
        "    modelo_cargado = pickle.load(file)"
      ],
      "metadata": {
        "colab": {
          "base_uri": "https://localhost:8080/",
          "height": 132
        },
        "id": "rmMbhwY53QJC",
        "outputId": "0eece053-290e-4e9a-f561-2b64bd4de70c"
      },
      "execution_count": null,
      "outputs": [
        {
          "output_type": "error",
          "ename": "SyntaxError",
          "evalue": "ignored",
          "traceback": [
            "\u001b[0;36m  File \u001b[0;32m\"<ipython-input-21-4cb7fb872d68>\"\u001b[0;36m, line \u001b[0;32m5\u001b[0m\n\u001b[0;31m    modelo_cargado= (BinaryEncoder)modelo_cargado\u001b[0m\n\u001b[0m                                   ^\u001b[0m\n\u001b[0;31mSyntaxError\u001b[0m\u001b[0;31m:\u001b[0m invalid syntax\n"
          ]
        }
      ]
    },
    {
      "cell_type": "code",
      "source": [
        "#decodificacion de las columnas usando el objeto de binary encoder entrenado\n",
        "modelo_cargado.inverse_transform(columna_encode.head())"
      ],
      "metadata": {
        "colab": {
          "base_uri": "https://localhost:8080/",
          "height": 206
        },
        "id": "fupkuCMKenxI",
        "outputId": "2ad27b8d-1d17-42a1-d000-db307656165d"
      },
      "execution_count": null,
      "outputs": [
        {
          "output_type": "execute_result",
          "data": {
            "text/plain": [
              "            BARRIO_RES\n",
              "0           Cristo Rey\n",
              "1          Las Granjas\n",
              "2  Calasanz Parte Alta\n",
              "3     Diego Echavarría\n",
              "4          El Diamante"
            ],
            "text/html": [
              "\n",
              "  <div id=\"df-d61dd790-e4da-4072-b6ba-5ee42ebe0a18\">\n",
              "    <div class=\"colab-df-container\">\n",
              "      <div>\n",
              "<style scoped>\n",
              "    .dataframe tbody tr th:only-of-type {\n",
              "        vertical-align: middle;\n",
              "    }\n",
              "\n",
              "    .dataframe tbody tr th {\n",
              "        vertical-align: top;\n",
              "    }\n",
              "\n",
              "    .dataframe thead th {\n",
              "        text-align: right;\n",
              "    }\n",
              "</style>\n",
              "<table border=\"1\" class=\"dataframe\">\n",
              "  <thead>\n",
              "    <tr style=\"text-align: right;\">\n",
              "      <th></th>\n",
              "      <th>BARRIO_RES</th>\n",
              "    </tr>\n",
              "  </thead>\n",
              "  <tbody>\n",
              "    <tr>\n",
              "      <th>0</th>\n",
              "      <td>Cristo Rey</td>\n",
              "    </tr>\n",
              "    <tr>\n",
              "      <th>1</th>\n",
              "      <td>Las Granjas</td>\n",
              "    </tr>\n",
              "    <tr>\n",
              "      <th>2</th>\n",
              "      <td>Calasanz Parte Alta</td>\n",
              "    </tr>\n",
              "    <tr>\n",
              "      <th>3</th>\n",
              "      <td>Diego Echavarría</td>\n",
              "    </tr>\n",
              "    <tr>\n",
              "      <th>4</th>\n",
              "      <td>El Diamante</td>\n",
              "    </tr>\n",
              "  </tbody>\n",
              "</table>\n",
              "</div>\n",
              "      <button class=\"colab-df-convert\" onclick=\"convertToInteractive('df-d61dd790-e4da-4072-b6ba-5ee42ebe0a18')\"\n",
              "              title=\"Convert this dataframe to an interactive table.\"\n",
              "              style=\"display:none;\">\n",
              "        \n",
              "  <svg xmlns=\"http://www.w3.org/2000/svg\" height=\"24px\"viewBox=\"0 0 24 24\"\n",
              "       width=\"24px\">\n",
              "    <path d=\"M0 0h24v24H0V0z\" fill=\"none\"/>\n",
              "    <path d=\"M18.56 5.44l.94 2.06.94-2.06 2.06-.94-2.06-.94-.94-2.06-.94 2.06-2.06.94zm-11 1L8.5 8.5l.94-2.06 2.06-.94-2.06-.94L8.5 2.5l-.94 2.06-2.06.94zm10 10l.94 2.06.94-2.06 2.06-.94-2.06-.94-.94-2.06-.94 2.06-2.06.94z\"/><path d=\"M17.41 7.96l-1.37-1.37c-.4-.4-.92-.59-1.43-.59-.52 0-1.04.2-1.43.59L10.3 9.45l-7.72 7.72c-.78.78-.78 2.05 0 2.83L4 21.41c.39.39.9.59 1.41.59.51 0 1.02-.2 1.41-.59l7.78-7.78 2.81-2.81c.8-.78.8-2.07 0-2.86zM5.41 20L4 18.59l7.72-7.72 1.47 1.35L5.41 20z\"/>\n",
              "  </svg>\n",
              "      </button>\n",
              "      \n",
              "  <style>\n",
              "    .colab-df-container {\n",
              "      display:flex;\n",
              "      flex-wrap:wrap;\n",
              "      gap: 12px;\n",
              "    }\n",
              "\n",
              "    .colab-df-convert {\n",
              "      background-color: #E8F0FE;\n",
              "      border: none;\n",
              "      border-radius: 50%;\n",
              "      cursor: pointer;\n",
              "      display: none;\n",
              "      fill: #1967D2;\n",
              "      height: 32px;\n",
              "      padding: 0 0 0 0;\n",
              "      width: 32px;\n",
              "    }\n",
              "\n",
              "    .colab-df-convert:hover {\n",
              "      background-color: #E2EBFA;\n",
              "      box-shadow: 0px 1px 2px rgba(60, 64, 67, 0.3), 0px 1px 3px 1px rgba(60, 64, 67, 0.15);\n",
              "      fill: #174EA6;\n",
              "    }\n",
              "\n",
              "    [theme=dark] .colab-df-convert {\n",
              "      background-color: #3B4455;\n",
              "      fill: #D2E3FC;\n",
              "    }\n",
              "\n",
              "    [theme=dark] .colab-df-convert:hover {\n",
              "      background-color: #434B5C;\n",
              "      box-shadow: 0px 1px 3px 1px rgba(0, 0, 0, 0.15);\n",
              "      filter: drop-shadow(0px 1px 2px rgba(0, 0, 0, 0.3));\n",
              "      fill: #FFFFFF;\n",
              "    }\n",
              "  </style>\n",
              "\n",
              "      <script>\n",
              "        const buttonEl =\n",
              "          document.querySelector('#df-d61dd790-e4da-4072-b6ba-5ee42ebe0a18 button.colab-df-convert');\n",
              "        buttonEl.style.display =\n",
              "          google.colab.kernel.accessAllowed ? 'block' : 'none';\n",
              "\n",
              "        async function convertToInteractive(key) {\n",
              "          const element = document.querySelector('#df-d61dd790-e4da-4072-b6ba-5ee42ebe0a18');\n",
              "          const dataTable =\n",
              "            await google.colab.kernel.invokeFunction('convertToInteractive',\n",
              "                                                     [key], {});\n",
              "          if (!dataTable) return;\n",
              "\n",
              "          const docLinkHtml = 'Like what you see? Visit the ' +\n",
              "            '<a target=\"_blank\" href=https://colab.research.google.com/notebooks/data_table.ipynb>data table notebook</a>'\n",
              "            + ' to learn more about interactive tables.';\n",
              "          element.innerHTML = '';\n",
              "          dataTable['output_type'] = 'display_data';\n",
              "          await google.colab.output.renderOutput(dataTable, element);\n",
              "          const docLink = document.createElement('div');\n",
              "          docLink.innerHTML = docLinkHtml;\n",
              "          element.appendChild(docLink);\n",
              "        }\n",
              "      </script>\n",
              "    </div>\n",
              "  </div>\n",
              "  "
            ]
          },
          "metadata": {},
          "execution_count": 22
        }
      ]
    },
    {
      "cell_type": "code",
      "source": [],
      "metadata": {
        "colab": {
          "base_uri": "https://localhost:8080/"
        },
        "id": "4Wq0sYy6uTzg",
        "outputId": "4c57d791-406f-43c2-ae94-e2acbf091d0b"
      },
      "execution_count": null,
      "outputs": [
        {
          "output_type": "execute_result",
          "data": {
            "text/plain": [
              "Index(['ANO', 'MES', 'TIPO_PRODUCTO', 'SEXO', 'EDAD_MADRE', 'SEG_SOCIAL',\n",
              "       'IDCLASADMI', 'COD_COMUNA_RES', 'BARRIO_RES', 'APORTE_EMB',\n",
              "       'BARRIO_RES_0', 'BARRIO_RES_1', 'BARRIO_RES_2', 'BARRIO_RES_3',\n",
              "       'BARRIO_RES_4', 'BARRIO_RES_5', 'BARRIO_RES_6', 'BARRIO_RES_7',\n",
              "       'BARRIO_RES_8'],\n",
              "      dtype='object')"
            ]
          },
          "metadata": {},
          "execution_count": 12
        }
      ]
    },
    {
      "cell_type": "code",
      "source": [],
      "metadata": {
        "id": "sAyHnPzWuTq7",
        "colab": {
          "base_uri": "https://localhost:8080/"
        },
        "outputId": "ae8ebff2-6d2d-4cda-a4e5-c1346e0f792a"
      },
      "execution_count": null,
      "outputs": [
        {
          "output_type": "stream",
          "name": "stdout",
          "text": [
            "0\n",
            "1\n",
            "2\n",
            "3\n",
            "4\n",
            "5\n",
            "6\n",
            "7\n",
            "8\n",
            "9\n"
          ]
        }
      ]
    }
  ]
}